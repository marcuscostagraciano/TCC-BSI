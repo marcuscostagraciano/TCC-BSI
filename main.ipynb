{
 "cells": [
  {
   "cell_type": "code",
   "execution_count": null,
   "metadata": {},
   "outputs": [],
   "source": [
    "%load_ext Cython\n",
    "%load_ext autoreload\n",
    "%autoreload 2"
   ]
  },
  {
   "cell_type": "code",
   "execution_count": null,
   "metadata": {},
   "outputs": [],
   "source": [
    "from typing import Final\n",
    "import numpy as np\n",
    "\n",
    "# NUM_REGISTROS: Final[int] = 4.5 * 10**9\n",
    "NUM_REGISTROS: Final[int] = 0.1 * 10**9\n",
    "ARRAY_NUMEROS = np.arange(NUM_REGISTROS, dtype=np.uint32)\n",
    "\n",
    "print(f\"{ARRAY_NUMEROS.size = :,}\")"
   ]
  },
  {
   "cell_type": "code",
   "execution_count": null,
   "metadata": {},
   "outputs": [],
   "source": [
    "%%cython\n",
    "cimport cython\n",
    "cimport numpy as np\n",
    "\n",
    "@cython.boundscheck(False)\n",
    "@cython.wraparound(False)\n",
    "cpdef unsigned long get_max_value(unsigned long[:] array):\n",
    "    cdef Py_ssize_t index\n",
    "    cdef Py_ssize_t array_size = array.size\n",
    "    cdef unsigned long max_value = array[0]\n",
    "    \n",
    "    for index in range(1, array_size):\n",
    "        if array[index] > max_value:\n",
    "            max_value = array[index]\n",
    "        \n",
    "    return max_value"
   ]
  },
  {
   "cell_type": "code",
   "execution_count": null,
   "metadata": {},
   "outputs": [],
   "source": [
    "from src import get_max_value_C"
   ]
  },
  {
   "cell_type": "code",
   "execution_count": null,
   "metadata": {},
   "outputs": [],
   "source": [
    "get_max_value_C(ARRAY_NUMEROS)"
   ]
  },
  {
   "cell_type": "code",
   "execution_count": null,
   "metadata": {},
   "outputs": [],
   "source": [
    "np.max(ARRAY_NUMEROS) == get_max_value_C(ARRAY_NUMEROS)"
   ]
  },
  {
   "cell_type": "code",
   "execution_count": null,
   "metadata": {},
   "outputs": [],
   "source": [
    "# # Cython (Função em C)\n",
    "# %timeit -p 5 get_max_value_C(ARRAY_NUMEROS)\n",
    "\n",
    "# # Usando Numpy\n",
    "# %timeit -p 5 np.max(ARRAY_NUMEROS)\n",
    "\n",
    "# # Cython (Jupyter)\n",
    "# %timeit -p 5 get_max_value(ARRAY_NUMEROS)\n",
    "\n",
    "# # Implementação padrão\n",
    "# %timeit -p 5 max(ARRAY_NUMEROS)"
   ]
  },
  {
   "cell_type": "code",
   "execution_count": null,
   "metadata": {},
   "outputs": [],
   "source": [
    "# Cython (Função em C)\n",
    "%timeit -r 1 -p 5 get_max_value_C(ARRAY_NUMEROS)\n",
    "# Usando Numpy\n",
    "%timeit -r 1 -p 5 np.max(ARRAY_NUMEROS)"
   ]
  },
  {
   "cell_type": "code",
   "execution_count": null,
   "metadata": {},
   "outputs": [],
   "source": [
    "import time\n",
    "\n",
    "t1 = time.perf_counter()\n",
    "get_max_value_C(ARRAY_NUMEROS)\n",
    "time.sleep(3)\n",
    "t2 = time.perf_counter()\n",
    "print(f\"{t2 - t1 = }\")\n",
    "\n",
    "t1 = time.process_time()\n",
    "get_max_value_C(ARRAY_NUMEROS)\n",
    "time.sleep(3)\n",
    "t2 = time.process_time()\n",
    "print(f\"{t2 - t1 = }\")"
   ]
  },
  {
   "cell_type": "code",
   "execution_count": null,
   "metadata": {},
   "outputs": [],
   "source": [
    "import timeit\n",
    "\n",
    "timeit.repeat(\n",
    "    \"get_max_value_C(ARRAY_NUMEROS)\",\n",
    "    globals=globals(),\n",
    "    repeat=1,\n",
    "    number=1,\n",
    ")"
   ]
  }
 ],
 "metadata": {
  "kernelspec": {
   "display_name": ".venv",
   "language": "python",
   "name": "python3"
  },
  "language_info": {
   "codemirror_mode": {
    "name": "ipython",
    "version": 3
   },
   "file_extension": ".py",
   "mimetype": "text/x-python",
   "name": "python",
   "nbconvert_exporter": "python",
   "pygments_lexer": "ipython3",
   "version": "3.11.8"
  }
 },
 "nbformat": 4,
 "nbformat_minor": 2
}
